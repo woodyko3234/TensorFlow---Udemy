{
 "cells": [
  {
   "cell_type": "code",
   "execution_count": 2,
   "metadata": {},
   "outputs": [
    {
     "name": "stdout",
     "output_type": "stream",
     "text": [
      "[[1 3 5]\n",
      " [2 5 1]\n",
      " [2 3 8]]\n",
      "[[-1.48  0.36  0.88]\n",
      " [ 0.56  0.08 -0.36]\n",
      " [ 0.16 -0.12  0.04]]\n",
      "[[ 1.00000000e+00 -1.11022302e-16 -5.55111512e-17]\n",
      " [ 3.05311332e-16  1.00000000e+00  1.87350135e-16]\n",
      " [ 2.22044605e-16 -1.11022302e-16  1.00000000e+00]]\n"
     ]
    }
   ],
   "source": [
    "#!/usr/bin/env python3\n",
    "# -*- coding: utf-8 -*-\n",
    "\"\"\"\n",
    "Created on Tue Oct 17 15:34:32 2017\n",
    "\n",
    "@author: justinwu\n",
    "\"\"\"\n",
    "\n",
    "import numpy as np\n",
    "from scipy import linalg\n",
    "A = np.array([[1,3,5],[2,5,1],[2,3,8]])\n",
    "print(A)\n",
    "print(linalg.inv(A)) #inverse matrix\n",
    "print(A.dot(linalg.inv(A))) #matrix.dot(inversed matrix) = unit matrix"
   ]
  },
  {
   "cell_type": "code",
   "execution_count": 3,
   "metadata": {},
   "outputs": [
    {
     "name": "stdout",
     "output_type": "stream",
     "text": [
      "[[1 2]\n",
      " [3 4]]\n",
      "-2.0\n"
     ]
    }
   ],
   "source": [
    "#!/usr/bin/env python3\n",
    "# -*- coding: utf-8 -*-\n",
    "\"\"\"\n",
    "Created on Tue Oct 17 15:56:48 2017\n",
    "\n",
    "@author: justinwu\n",
    "\"\"\"\n",
    "\n",
    "import numpy as np\n",
    "from scipy import linalg as la\n",
    "A = np.array([[1,2],[3,4]])\n",
    "print(A)\n",
    "print(la.det(A))"
   ]
  },
  {
   "cell_type": "code",
   "execution_count": 4,
   "metadata": {},
   "outputs": [
    {
     "name": "stdout",
     "output_type": "stream",
     "text": [
      "(7.957916204910751+0j) (-1.2576647056775323+0j) (0.29974850076678317+0j)\n",
      "[[-0.5297175  -0.90730751  0.28380519]\n",
      " [-0.44941741  0.28662547 -0.39012063]\n",
      " [-0.71932146  0.30763439  0.87593408]]\n",
      "[-0.5297175  -0.44941741 -0.71932146]\n",
      "[-0.90730751  0.28662547  0.30763439]\n",
      "[ 0.28380519 -0.39012063  0.87593408]\n",
      "--------------\n",
      "[-0.5297175  -0.44941741 -0.71932146]\n",
      "2.6645352591003757e-15\n"
     ]
    }
   ],
   "source": [
    "#!/usr/bin/env python3\n",
    "# -*- coding: utf-8 -*-\n",
    "\"\"\"\n",
    "Created on Wed Oct 18 17:14:57 2017\n",
    "\n",
    "@author: justinwu\n",
    "\"\"\"\n",
    "\n",
    "import numpy as np \n",
    "from scipy import linalg as la\n",
    "A = np.array([[1,5,2],[2,4,1],[3,6,2]])\n",
    "lna,v=la.eig(A)\n",
    "l1,l2,l3=lna\n",
    "print(l1,l2,l3)\n",
    "print(v)\n",
    "print(v[:,0])\n",
    "print(v[:,1])\n",
    "print(v[:,2])\n",
    "print('--------------')\n",
    "v1=np.array(v[:,0]).T\n",
    "print(v1)\n",
    "print(linalg.norm(A.dot(v1)-l1*v1))"
   ]
  },
  {
   "cell_type": "code",
   "execution_count": null,
   "metadata": {
    "collapsed": true
   },
   "outputs": [],
   "source": []
  }
 ],
 "metadata": {
  "kernelspec": {
   "display_name": "Python [default]",
   "language": "python",
   "name": "python3"
  },
  "language_info": {
   "codemirror_mode": {
    "name": "ipython",
    "version": 3
   },
   "file_extension": ".py",
   "mimetype": "text/x-python",
   "name": "python",
   "nbconvert_exporter": "python",
   "pygments_lexer": "ipython3",
   "version": "3.5.4"
  }
 },
 "nbformat": 4,
 "nbformat_minor": 2
}
