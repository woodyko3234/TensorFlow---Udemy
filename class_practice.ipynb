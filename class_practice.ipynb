{
 "cells": [
  {
   "cell_type": "code",
   "execution_count": 1,
   "metadata": {},
   "outputs": [
    {
     "name": "stdout",
     "output_type": "stream",
     "text": [
      "3.0 -4.5\n",
      "物件被解構刪除了\n"
     ]
    }
   ],
   "source": [
    "#!/usr/bin/env python3\n",
    "# -*- coding: utf-8 -*-\n",
    "\"\"\"\n",
    "Created on Fri Oct 27 10:16:28 2017\n",
    "\n",
    "@author: justinwu\n",
    "\"\"\"\n",
    "\n",
    "class Complex:\n",
    "    def __init__(self,realpart,imagepart):\n",
    "        self.r=realpart\n",
    "        self.i=imagepart\n",
    "        \n",
    "    def __del__(self):\n",
    "        print('物件被解構刪除了')\n",
    "        \n",
    "x=Complex(3.0,-4.5)\n",
    "print(x.r,x.i)\n",
    "x=None"
   ]
  },
  {
   "cell_type": "code",
   "execution_count": 4,
   "metadata": {},
   "outputs": [
    {
     "name": "stdout",
     "output_type": "stream",
     "text": [
      "名子 特斯拉\n",
      "引擎:磁電Engine\n",
      "電動車電力\n",
      "自動駕駛車\n"
     ]
    }
   ],
   "source": [
    "#!/usr/bin/env python3\n",
    "# -*- coding: utf-8 -*-\n",
    "\"\"\"\n",
    "Created on Mon Oct 16 17:38:54 2017\n",
    "\n",
    "@author: justinwu\n",
    "\"\"\"\n",
    "\n",
    "class Vehicle:\n",
    "    def __init__(self,name,engine):\n",
    "        self.__name=name\n",
    "        self.__engine=engine\n",
    "        \n",
    "    def getName(self):\n",
    "        return self.__name\n",
    "    \n",
    "    def getEngine(self):\n",
    "        return self.__engine\n",
    "\n",
    "    def setEngine(self,engine):\n",
    "        self.__engine = engine\n",
    "\"\"\"\n",
    "For Vehicle class, \"__\" is necessary since we need to call inheritance(繼承)\n",
    "\"\"\"\n",
    "\n",
    "class Car(Vehicle):\n",
    "    def __init__(self,name,engine,electric):\n",
    "        super().__init__(name,engine)\n",
    "        self.__electric=electric\n",
    "        \n",
    "    def getCarName(self):\n",
    "        print(\"名子\",self.getName())\n",
    "        print(\"引擎:\"+self.getEngine())\n",
    "        print(\"電動車\"+self.__electric)\n",
    "        \n",
    "    def getAuto(self):\n",
    "        print(\"自動駕駛車\")\n",
    "        \n",
    "        \n",
    "myCar = Car(\"特斯拉\",\"磁電Engine\",\"電力\")\n",
    "myCar.getCarName()\n",
    "myCar.getAuto()"
   ]
  },
  {
   "cell_type": "code",
   "execution_count": 8,
   "metadata": {},
   "outputs": [
    {
     "name": "stdout",
     "output_type": "stream",
     "text": [
      "名子特斯拉\n",
      "引擎磁電引擎\n",
      "電動車電力\n"
     ]
    },
    {
     "data": {
      "text/plain": [
       "'自動駕駛車'"
      ]
     },
     "execution_count": 8,
     "metadata": {},
     "output_type": "execute_result"
    }
   ],
   "source": [
    "#!/usr/bin/env python3\n",
    "# -*- coding: utf-8 -*-\n",
    "\"\"\"\n",
    "Created on Fri Oct 27 11:49:02 2017\n",
    "\n",
    "@author: justinwu\n",
    "\"\"\"\n",
    "class Vehicle:\n",
    "    def __init__(self,name,engine):\n",
    "        self.__name=name\n",
    "        self.__engine=engine\n",
    "        \n",
    "    def getName(self):\n",
    "        return self.__name\n",
    "    def getEngine(self):\n",
    "        return self.__engine\n",
    "    def setEngine(self,engine):\n",
    "        self.__engine=engine\n",
    "        \n",
    "class Electric:\n",
    "    def __init__(self,PowerElectric):\n",
    "        self.__PowerElectric=PowerElectric\n",
    "    \n",
    "    def getPower(self):\n",
    "        return self.__PowerElectric\n",
    "    \n",
    "    def setPower(self,PowerElectric):\n",
    "        self.__PowerElectric=PowerElectric\n",
    "        \n",
    "class Car(Vehicle,Electric):\n",
    "    def __init__(self,name,engine,PowerElectric,auto):\n",
    "        super().__init__(name,engine)\n",
    "        self.setPower(PowerElectric)\n",
    "        self.__Auto=auto\n",
    "        \n",
    "    def getCarName(self):\n",
    "        print(\"名子\"+self.getName())\n",
    "        print(\"引擎\"+self.getEngine())\n",
    "        print(\"電動車\"+self.getPower())\n",
    "        \n",
    "    def getAuto(self):\n",
    "        return self.__Auto\n",
    "    \n",
    "myCar=Car(\"特斯拉\",\"磁電引擎\",\"電力\",\"自動駕駛車\")\n",
    "myCar.getCarName()\n",
    "myCar.getAuto()"
   ]
  },
  {
   "cell_type": "code",
   "execution_count": 10,
   "metadata": {},
   "outputs": [
    {
     "name": "stdout",
     "output_type": "stream",
     "text": [
      "自動駕駛車\n",
      "超級\n"
     ]
    }
   ],
   "source": [
    "#!/usr/bin/env python3\n",
    "# -*- coding: utf-8 -*-\n",
    "\n",
    "class Vehicle:\n",
    "    def __init__(self,name,engine):\n",
    "        self.__name=name\n",
    "        self.__engine=engine\n",
    "        \n",
    "    def getName(self):\n",
    "        return self.__name\n",
    "    def getEngine(self):\n",
    "        return self.__engine\n",
    "    \n",
    "class Car(Vehicle):\n",
    "    def __init__(self,name,engine,electric):\n",
    "        super().__init__(name,engine)\n",
    "        self.__electric=electric      \n",
    "       \n",
    "    def getEngine(self):\n",
    "        return (\"超級\")\n",
    "    \n",
    "    def getAuto(self):\n",
    "        print(\"自動駕駛車\")\n",
    "        \n",
    "myCar=Car(\"特斯拉\",\"磁電Engine\",\"電力\")\n",
    "myCar.getAuto()\n",
    "print(myCar.getEngine()) #父類別Vehicle的預設型態被子類別Car覆蓋\n",
    "#print(Vehicle.getEngine()) "
   ]
  },
  {
   "cell_type": "code",
   "execution_count": null,
   "metadata": {
    "collapsed": true
   },
   "outputs": [],
   "source": []
  }
 ],
 "metadata": {
  "kernelspec": {
   "display_name": "Python [default]",
   "language": "python",
   "name": "python3"
  },
  "language_info": {
   "codemirror_mode": {
    "name": "ipython",
    "version": 3
   },
   "file_extension": ".py",
   "mimetype": "text/x-python",
   "name": "python",
   "nbconvert_exporter": "python",
   "pygments_lexer": "ipython3",
   "version": "3.5.4"
  }
 },
 "nbformat": 4,
 "nbformat_minor": 2
}
