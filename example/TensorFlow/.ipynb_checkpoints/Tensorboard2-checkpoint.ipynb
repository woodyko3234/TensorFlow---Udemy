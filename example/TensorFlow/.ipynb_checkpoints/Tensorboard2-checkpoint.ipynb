{
 "cells": [
  {
   "cell_type": "code",
   "execution_count": 8,
   "metadata": {},
   "outputs": [
    {
     "name": "stdout",
     "output_type": "stream",
     "text": [
      "7.6\n"
     ]
    }
   ],
   "source": [
    "import tensorflow as tf\n",
    "x = tf.placeholder(tf.float32,name='x')\n",
    "y = tf.placeholder(tf.float32,name='y')\n",
    "z = tf.add(x, y,name='sum')\n",
    "\n",
    "with tf.Session() as sess:  \n",
    "    print(sess.run(z,feed_dict={x:5.5,y:2.1}))"
   ]
  },
  {
   "cell_type": "code",
   "execution_count": 10,
   "metadata": {},
   "outputs": [],
   "source": [
    "tf.summary.merge_all()\n",
    "filewriter=tf.summary.FileWriter('test/sum',sess.graph)"
   ]
  },
  {
   "cell_type": "code",
   "execution_count": null,
   "metadata": {
    "collapsed": true
   },
   "outputs": [],
   "source": []
  }
 ],
 "metadata": {
  "kernelspec": {
   "display_name": "Python 3",
   "language": "python",
   "name": "python3"
  }
 },
 "nbformat": 4,
 "nbformat_minor": 2
}
